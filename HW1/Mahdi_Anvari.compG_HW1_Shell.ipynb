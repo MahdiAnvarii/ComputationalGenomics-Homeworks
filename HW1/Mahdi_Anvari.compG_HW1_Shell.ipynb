{
 "cells": [
  {
   "cell_type": "markdown",
   "id": "02f3cf4a",
   "metadata": {},
   "source": [
    "# Computational Genomics - Homework 1\n",
    "\n",
    "---------------------------------"
   ]
  },
  {
   "cell_type": "markdown",
   "id": "b785fd36",
   "metadata": {},
   "source": [
    "## Shell Section:"
   ]
  },
  {
   "cell_type": "code",
   "execution_count": 7,
   "id": "38d52919",
   "metadata": {},
   "outputs": [
    {
     "name": "stdout",
     "output_type": "stream",
     "text": [
      "/mnt/d/Daneshga/Term 8/Computational Genomics/HW1\n"
     ]
    }
   ],
   "source": [
    "pwd"
   ]
  },
  {
   "cell_type": "code",
   "execution_count": 8,
   "id": "af125248",
   "metadata": {},
   "outputs": [
    {
     "name": "stdout",
     "output_type": "stream",
     "text": [
      "\u001b[0m\u001b[01;32mMahdi_Anvari.compG_HW1_R.ipynb\u001b[0m  \u001b[01;32mMahdi_Anvari.compG_HW1_Shell.ipynb\u001b[0m\n"
     ]
    }
   ],
   "source": [
    "ls"
   ]
  },
  {
   "cell_type": "markdown",
   "id": "aca051cb",
   "metadata": {},
   "source": [
    "## 1."
   ]
  },
  {
   "cell_type": "code",
   "execution_count": 9,
   "id": "501ae8eb",
   "metadata": {},
   "outputs": [
    {
     "name": "stdout",
     "output_type": "stream",
     "text": [
      "--2025-03-23 15:59:35--  https://dalexander.github.io/admixture/binaries/admixture_linux-1.3.0.tar.gz\n",
      "Resolving dalexander.github.io (dalexander.github.io)... 185.199.111.153, 185.199.109.153, 185.199.110.153, ...\n",
      "Connecting to dalexander.github.io (dalexander.github.io)|185.199.111.153|:443... connected.\n",
      "HTTP request sent, awaiting response... 200 OK\n",
      "Length: 1916705 (1.8M) [application/gzip]\n",
      "Saving to: ‘admixture_linux-1.3.0.tar.gz’\n",
      "\n",
      "admixture_linux-1.3 100%[===================>]   1.83M   407KB/s    in 4.6s    \n",
      "\n",
      "2025-03-23 15:59:44 (407 KB/s) - ‘admixture_linux-1.3.0.tar.gz’ saved [1916705/1916705]\n",
      "\n",
      "--2025-03-23 15:59:44--  https://dalexander.github.io/admixture/admixture-manual.pdf\n",
      "Resolving dalexander.github.io (dalexander.github.io)... 185.199.111.153, 185.199.109.153, 185.199.110.153, ...\n",
      "Connecting to dalexander.github.io (dalexander.github.io)|185.199.111.153|:443... connected.\n",
      "HTTP request sent, awaiting response... 200 OK\n",
      "Length: 301291 (294K) [application/pdf]\n",
      "Saving to: ‘admixture-manual.pdf’\n",
      "\n",
      "admixture-manual.pd 100%[===================>] 294.23K  91.2KB/s    in 3.2s    \n",
      "\n",
      "2025-03-23 15:59:50 (91.2 KB/s) - ‘admixture-manual.pdf’ saved [301291/301291]\n",
      "\n",
      "--2025-03-23 15:59:50--  https://dalexander.github.io/admixture/hapmap3-files.tar.gz\n",
      "Resolving dalexander.github.io (dalexander.github.io)... 185.199.111.153, 185.199.109.153, 185.199.110.153, ...\n",
      "Connecting to dalexander.github.io (dalexander.github.io)|185.199.111.153|:443... connected.\n",
      "HTTP request sent, awaiting response... 200 OK\n",
      "Length: 1865216 (1.8M) [application/gzip]\n",
      "Saving to: ‘hapmap3-files.tar.gz’\n",
      "\n",
      "hapmap3-files.tar.g 100%[===================>]   1.78M   348KB/s    in 5.2s    \n",
      "\n",
      "2025-03-23 15:59:57 (348 KB/s) - ‘hapmap3-files.tar.gz’ saved [1865216/1865216]\n",
      "\n"
     ]
    }
   ],
   "source": [
    "wget https://dalexander.github.io/admixture/binaries/admixture_linux-1.3.0.tar.gz\n",
    "wget https://dalexander.github.io/admixture/admixture-manual.pdf\n",
    "wget https://dalexander.github.io/admixture/hapmap3-files.tar.gz"
   ]
  },
  {
   "cell_type": "code",
   "execution_count": 47,
   "id": "67b8de31",
   "metadata": {},
   "outputs": [],
   "source": [
    "mkdir admixture_linux-1.3.0 hapmap3-files\n",
    "tar -xzf admixture_linux-1.3.0.tar.gz -C admixture_linux-1.3.0/\n",
    "tar -xf hapmap3-files.tar.gz -C hapmap3-files/"
   ]
  },
  {
   "cell_type": "code",
   "execution_count": 48,
   "id": "6e6be9f3",
   "metadata": {},
   "outputs": [
    {
     "name": "stdout",
     "output_type": "stream",
     "text": [
      "\u001b[0m\u001b[01;32mMahdi_Anvari.compG_HW1_R.ipynb\u001b[0m      \u001b[01;32madmixture_linux-1.3.0.tar.gz\u001b[0m\n",
      "\u001b[01;32mMahdi_Anvari.compG_HW1_Shell.ipynb\u001b[0m  \u001b[34;42mhapmap3-files\u001b[0m\n",
      "\u001b[01;32madmixture-manual.pdf\u001b[0m                \u001b[01;32mhapmap3-files.tar.gz\u001b[0m\n",
      "\u001b[34;42madmixture_linux-1.3.0\u001b[0m\n"
     ]
    }
   ],
   "source": [
    "ls"
   ]
  },
  {
   "cell_type": "code",
   "execution_count": 49,
   "id": "6dd0f34f",
   "metadata": {},
   "outputs": [
    {
     "name": "stdout",
     "output_type": "stream",
     "text": [
      "\u001b[0m\u001b[01;32mhapmap3.bed\u001b[0m  \u001b[01;32mhapmap3.bim\u001b[0m  \u001b[01;32mhapmap3.fam\u001b[0m  \u001b[01;32mhapmap3.map\u001b[0m\n"
     ]
    }
   ],
   "source": [
    "ls hapmap3-files"
   ]
  },
  {
   "cell_type": "code",
   "execution_count": 52,
   "id": "a52e4018",
   "metadata": {},
   "outputs": [
    {
     "name": "stdout",
     "output_type": "stream",
     "text": [
      "1\trs10458597\t0\t554484\t0\t2\n",
      "1\trs12562034\t0\t758311\t1\t2\n",
      "1\trs2710875\t0\t967643\t1\t2\n",
      "1\trs11260566\t0\t1168108\t1\t2\n",
      "1\trs1312568\t0\t1375074\t1\t2\n",
      "1\trs35154105\t0\t1588771\t0\t2\n",
      "1\trs16824508\t0\t1789051\t1\t2\n",
      "1\trs2678939\t0\t1990452\t1\t2\n",
      "1\trs7553178\t0\t2194615\t1\t2\n",
      "1\trs13376356\t0\t2396747\t1\t2\n"
     ]
    }
   ],
   "source": [
    "head hapmap3-files/hapmap3.bim"
   ]
  },
  {
   "cell_type": "code",
   "execution_count": 53,
   "id": "49ffb61a",
   "metadata": {},
   "outputs": [
    {
     "name": "stdout",
     "output_type": "stream",
     "text": [
      "2431 NA19916 0 0 1 -9\n",
      "2424 NA19835 0 0 2 -9\n",
      "2469 NA20282 0 0 2 -9\n",
      "2368 NA19703 0 0 1 -9\n",
      "2425 NA19901 0 0 2 -9\n",
      "2427 NA19908 0 0 1 -9\n",
      "2430 NA19914 0 0 2 -9\n",
      "2470 NA20287 0 0 2 -9\n",
      "2436 NA19713 0 0 2 -9\n",
      "2426 NA19904 0 0 1 -9\n"
     ]
    }
   ],
   "source": [
    "head hapmap3-files/hapmap3.fam"
   ]
  },
  {
   "cell_type": "markdown",
   "id": "35e77ab7",
   "metadata": {},
   "source": [
    "## 2."
   ]
  },
  {
   "cell_type": "code",
   "execution_count": 50,
   "id": "5d77c8af",
   "metadata": {},
   "outputs": [
    {
     "name": "stdout",
     "output_type": "stream",
     "text": [
      "\u001b[0m\u001b[01;32mREADME.32.txt\u001b[0m  \u001b[01;32madmixture\u001b[0m  \u001b[01;32madmixture-manual.pdf\u001b[0m  \u001b[01;32madmixture32\u001b[0m\n"
     ]
    }
   ],
   "source": [
    "ls admixture_linux-1.3.0/dist/admixture_linux-1.3.0/"
   ]
  },
  {
   "cell_type": "code",
   "execution_count": 51,
   "id": "b3e0a11d",
   "metadata": {},
   "outputs": [
    {
     "name": "stdout",
     "output_type": "stream",
     "text": [
      "\n",
      "As of version 1.2, admixture is compiled as a 64-bit binary.\n",
      "admixture32 is a 32-bit version provided for compatibility with older\n",
      "systems.\n",
      "\n",
      "--Dave\n"
     ]
    }
   ],
   "source": [
    "cat admixture_linux-1.3.0/dist/admixture_linux-1.3.0/README.32.txt"
   ]
  },
  {
   "cell_type": "code",
   "execution_count": 56,
   "id": "0347e1aa",
   "metadata": {},
   "outputs": [
    {
     "name": "stdout",
     "output_type": "stream",
     "text": [
      "****                   ADMIXTURE Version 1.3.0                  ****\n",
      "****                    Copyright 2008-2015                     ****\n",
      "****           David Alexander, Suyash Shringarpure,            ****\n",
      "****                John  Novembre, Ken Lange                   ****\n",
      "****                                                            ****\n",
      "****                 Please cite our paper!                     ****\n",
      "****   Information at www.genetics.ucla.edu/software/admixture  ****\n",
      "\n",
      "                                                                              \n",
      "  ADMIXTURE basic usage:  (see manual for complete reference)                 \n",
      "    % admixture [options] inputFile K                                         \n",
      "                                                                              \n",
      "  where:                                                                      \n",
      "    K is the number of populations; and                                       \n",
      "    inputFile may be:                                                         \n",
      "      - a PLINK .bed file                                                     \n",
      "      - a PLINK \"12\" coded .ped file                                        \n",
      "                                                                              \n",
      "  Output will be in files inputBasename.K.Q, inputBasename.K.P                \n",
      "                                                                              \n",
      "  General options:                                                            \n",
      "    -jX          : do computation on X threads                                \n",
      "    --seed=X     : use random seed X for initialization                       \n",
      "                                                                              \n",
      "  Algorithm options:                                                          \n",
      "     -m=                                                                      \n",
      "    --method=[em|block]     : set method.  block is default                   \n",
      "                                                                              \n",
      "     -a=                                                                      \n",
      "    --acceleration=none   |                                                   \n",
      "                   sqs<X> |                                                   \n",
      "                   qn<X>      : set acceleration                              \n",
      "                                                                              \n",
      "  Convergence criteria:                                                       \n",
      "    -C=X : set major convergence criterion (for point estimation)             \n",
      "    -c=x : set minor convergence criterion (for bootstrap and CV reestimates) \n",
      "                                                                              \n",
      "  Bootstrap standard errors:                                                  \n",
      "    -B[X]      : do bootstrapping [with X replicates]                         \n",
      "                                                                              \n",
      "                                                                              \n"
     ]
    }
   ],
   "source": [
    "admixture_linux-1.3.0/dist/admixture_linux-1.3.0/admixture32 --help"
   ]
  },
  {
   "cell_type": "markdown",
   "id": "f62a8533",
   "metadata": {},
   "source": [
    "## 3."
   ]
  },
  {
   "cell_type": "code",
   "execution_count": 59,
   "id": "b1e7cc6f",
   "metadata": {},
   "outputs": [],
   "source": [
    "cd hapmap3-files/"
   ]
  },
  {
   "cell_type": "code",
   "execution_count": 60,
   "id": "0fc9fcd4",
   "metadata": {},
   "outputs": [
    {
     "name": "stdout",
     "output_type": "stream",
     "text": [
      "\u001b[0m\u001b[01;32mhapmap3.bed\u001b[0m  \u001b[01;32mhapmap3.bim\u001b[0m  \u001b[01;32mhapmap3.fam\u001b[0m  \u001b[01;32mhapmap3.map\u001b[0m\n"
     ]
    }
   ],
   "source": [
    "ls"
   ]
  },
  {
   "cell_type": "code",
   "execution_count": 61,
   "id": "f39294db",
   "metadata": {},
   "outputs": [
    {
     "name": "stdout",
     "output_type": "stream",
     "text": [
      "****                   ADMIXTURE Version 1.3.0                  ****\n",
      "****                    Copyright 2008-2015                     ****\n",
      "****           David Alexander, Suyash Shringarpure,            ****\n",
      "****                John  Novembre, Ken Lange                   ****\n",
      "****                                                            ****\n",
      "****                 Please cite our paper!                     ****\n",
      "****   Information at www.genetics.ucla.edu/software/admixture  ****\n",
      "\n",
      "Random seed: 43\n",
      "Point estimation method: Block relaxation algorithm\n",
      "Convergence acceleration algorithm: QuasiNewton, 3 secant conditions\n",
      "Point estimation will terminate when objective function delta < 0.0001\n",
      "Estimation of standard errors disabled; will compute point estimates only.\n",
      "Size of G: 324x13928\n",
      "Performing five EM steps to prime main algorithm\n",
      "1 (EM) \tElapsed: 0.19\tLoglikelihood: -4.38757e+06\t(delta): 2.87325e+06\n",
      "2 (EM) \tElapsed: 0.18\tLoglikelihood: -4.25681e+06\t(delta): 130762\n",
      "3 (EM) \tElapsed: 0.179\tLoglikelihood: -4.21622e+06\t(delta): 40582.9\n",
      "4 (EM) \tElapsed: 0.189\tLoglikelihood: -4.19347e+06\t(delta): 22748.2\n",
      "5 (EM) \tElapsed: 0.193\tLoglikelihood: -4.17881e+06\t(delta): 14663.1\n",
      "Initial loglikelihood: -4.17881e+06\n",
      "Starting main algorithm\n",
      "1 (QN/Block) \tElapsed: 0.591\tLoglikelihood: -3.94775e+06\t(delta): 231058\n",
      "2 (QN/Block) \tElapsed: 0.544\tLoglikelihood: -3.8802e+06\t(delta): 67554.6\n",
      "3 (QN/Block) \tElapsed: 0.567\tLoglikelihood: -3.83232e+06\t(delta): 47883.8\n",
      "4 (QN/Block) \tElapsed: 0.661\tLoglikelihood: -3.81118e+06\t(delta): 21138.2\n",
      "5 (QN/Block) \tElapsed: 0.749\tLoglikelihood: -3.80682e+06\t(delta): 4354.36\n",
      "6 (QN/Block) \tElapsed: 0.707\tLoglikelihood: -3.80474e+06\t(delta): 2085.65\n",
      "7 (QN/Block) \tElapsed: 0.695\tLoglikelihood: -3.80362e+06\t(delta): 1112.58\n",
      "8 (QN/Block) \tElapsed: 0.62\tLoglikelihood: -3.80276e+06\t(delta): 865.01\n",
      "9 (QN/Block) \tElapsed: 0.543\tLoglikelihood: -3.80209e+06\t(delta): 666.662\n",
      "10 (QN/Block) \tElapsed: 0.722\tLoglikelihood: -3.80151e+06\t(delta): 579.49\n",
      "11 (QN/Block) \tElapsed: 0.848\tLoglikelihood: -3.80097e+06\t(delta): 548.156\n",
      "12 (QN/Block) \tElapsed: 0.76\tLoglikelihood: -3.80049e+06\t(delta): 473.565\n",
      "13 (QN/Block) \tElapsed: 0.703\tLoglikelihood: -3.80023e+06\t(delta): 258.61\n",
      "14 (QN/Block) \tElapsed: 0.767\tLoglikelihood: -3.80005e+06\t(delta): 179.949\n",
      "15 (QN/Block) \tElapsed: 0.803\tLoglikelihood: -3.79991e+06\t(delta): 146.707\n",
      "16 (QN/Block) \tElapsed: 0.736\tLoglikelihood: -3.79989e+06\t(delta): 13.1942\n",
      "17 (QN/Block) \tElapsed: 0.804\tLoglikelihood: -3.79989e+06\t(delta): 4.60747\n",
      "18 (QN/Block) \tElapsed: 0.716\tLoglikelihood: -3.79989e+06\t(delta): 1.50012\n",
      "19 (QN/Block) \tElapsed: 0.701\tLoglikelihood: -3.79989e+06\t(delta): 0.128916\n",
      "20 (QN/Block) \tElapsed: 0.694\tLoglikelihood: -3.79989e+06\t(delta): 0.00182983\n",
      "21 (QN/Block) \tElapsed: 0.694\tLoglikelihood: -3.79989e+06\t(delta): 4.33787e-05\n",
      "Summary: \n",
      "Converged in 21 iterations (16.556 sec)\n",
      "Loglikelihood: -3799887.171935\n",
      "Fst divergences between estimated populations: \n",
      "\tPop0\tPop1\t\n",
      "Pop0\t\n",
      "Pop1\t0.163\t\n",
      "Pop2\t0.073\t0.156\t\n",
      "Writing output files.\n"
     ]
    }
   ],
   "source": [
    "../admixture_linux-1.3.0/dist/admixture_linux-1.3.0/admixture32 hapmap3.bed 3"
   ]
  },
  {
   "cell_type": "markdown",
   "id": "3345af80",
   "metadata": {},
   "source": [
    "------------\n",
    "What information does the input .bed file contain?\n",
    "The .bed file used by ADMIXTURE is a binary genotype file in PLINK format. It encodes the genotype calls (0, 1, or 2 copies of the reference allele) for all individuals at each SNP in a compact binary form. This file is accompanied by a .bim file (with SNP info) and a .fam file (with sample metadata). Together, these files describe:\n",
    "\n",
    "1. Which individuals were genotyped\n",
    "\n",
    "2. Which SNPs were genotyped\n",
    "\n",
    "3. The genotype of each individual at each SNP (e.g., AA, AB, or BB)\n",
    "\n",
    "ADMIXTURE reads the .bed file to learn how allele frequencies vary across individuals and populations."
   ]
  },
  {
   "cell_type": "markdown",
   "id": "451f68cf",
   "metadata": {},
   "source": [
    "What does K represent in ADMIXTURE?\n",
    "K represents the number of ancestral populations (clusters) you want ADMIXTURE to infer. It is a user-defined input that tells the program how many genetic components to decompose the dataset into."
   ]
  },
  {
   "cell_type": "markdown",
   "id": "5244ec47",
   "metadata": {},
   "source": [
    "Why do you need to provide K?\n",
    "ADMIXTURE doesn’t automatically determine the optimal number of populations. You must provide K because:\n",
    "\n",
    "1. The model it fits is unsupervised — it doesn't know in advance how many populations are biologically meaningful.\n",
    "\n",
    "2. Different values of K may reveal different patterns of structure, and you may compare them using cross-validation error to choose the best K.\n",
    "\n",
    "So, setting K is a hypothesis about how many distinct ancestral groups may have contributed to the observed genotypes.\n",
    "\n",
    "----"
   ]
  },
  {
   "cell_type": "markdown",
   "id": "bab5643b",
   "metadata": {},
   "source": [
    "## 4."
   ]
  },
  {
   "cell_type": "code",
   "execution_count": 63,
   "id": "5792855e",
   "metadata": {},
   "outputs": [
    {
     "name": "stdout",
     "output_type": "stream",
     "text": [
      "\u001b[0m\u001b[01;32mhapmap3.3.P\u001b[0m  \u001b[01;32mhapmap3.3.Q\u001b[0m  \u001b[01;32mhapmap3.bed\u001b[0m  \u001b[01;32mhapmap3.bim\u001b[0m  \u001b[01;32mhapmap3.fam\u001b[0m  \u001b[01;32mhapmap3.map\u001b[0m\n"
     ]
    }
   ],
   "source": [
    "ls"
   ]
  },
  {
   "cell_type": "code",
   "execution_count": 64,
   "id": "021dee72",
   "metadata": {},
   "outputs": [
    {
     "name": "stdout",
     "output_type": "stream",
     "text": [
      "0.999990 0.999990 0.999990\n",
      "0.946581 0.934992 0.901852\n",
      "0.989626 0.382598 0.918612\n",
      "0.973109 0.682057 0.907595\n",
      "0.678695 0.918927 0.129153\n",
      "0.999990 0.999990 0.999990\n",
      "0.999990 0.990119 0.999990\n",
      "0.841989 0.203466 0.851233\n",
      "0.967501 0.860690 0.622157\n",
      "0.870693 0.862778 0.842376\n"
     ]
    }
   ],
   "source": [
    "head hapmap3.3.P"
   ]
  },
  {
   "cell_type": "code",
   "execution_count": 65,
   "id": "6f1ec3b0",
   "metadata": {},
   "outputs": [
    {
     "name": "stdout",
     "output_type": "stream",
     "text": [
      "0.000010 0.896321 0.103669\n",
      "0.009659 0.830876 0.159465\n",
      "0.055770 0.725441 0.218790\n",
      "0.000010 0.866447 0.133543\n",
      "0.029255 0.888970 0.081775\n",
      "0.009302 0.859576 0.131122\n",
      "0.000010 0.715624 0.284366\n",
      "0.013736 0.810352 0.175913\n",
      "0.000010 0.727122 0.272868\n",
      "0.034870 0.821125 0.144004\n"
     ]
    }
   ],
   "source": [
    "head hapmap3.3.Q"
   ]
  }
 ],
 "metadata": {
  "kernelspec": {
   "display_name": "Bash",
   "language": "bash",
   "name": "bash"
  },
  "language_info": {
   "codemirror_mode": "shell",
   "file_extension": ".sh",
   "mimetype": "text/x-sh",
   "name": "bash"
  }
 },
 "nbformat": 4,
 "nbformat_minor": 5
}
