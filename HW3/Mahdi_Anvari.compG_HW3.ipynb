{
 "cells": [
  {
   "cell_type": "markdown",
   "id": "781603bf",
   "metadata": {},
   "source": [
    "# Computational Genomics - HW3"
   ]
  },
  {
   "cell_type": "markdown",
   "id": "8e6b2d1a",
   "metadata": {},
   "source": [
    "To begin, we extracted chromosome 1 from the hg38 reference genome to create a distinct reference sequence. This is useful for reducing computational complexity and focusing analysis on a specific region of interest. After generating the chromosome 1 FASTA file, we indexed it to ensure compatibility with downstream tools that require fast sequence lookup."
   ]
  },
  {
   "cell_type": "code",
   "execution_count": 10,
   "id": "5cb37253",
   "metadata": {},
   "outputs": [],
   "source": [
    "mkdir Reference\n",
    "cd Reference"
   ]
  },
  {
   "cell_type": "code",
   "execution_count": 11,
   "id": "f07d914f",
   "metadata": {},
   "outputs": [],
   "source": [
    "samtools faidx /mnt/d/NGS/References/hg38.fa chr1 > chr1.fa"
   ]
  },
  {
   "cell_type": "code",
   "execution_count": 13,
   "id": "6e99ed6b",
   "metadata": {},
   "outputs": [],
   "source": [
    "samtools faidx chr1.fa"
   ]
  },
  {
   "cell_type": "code",
   "execution_count": 14,
   "id": "79d8bb4d",
   "metadata": {},
   "outputs": [
    {
     "name": "stdout",
     "output_type": "stream",
     "text": [
      "\u001b[0m\u001b[01;32mchr1.fa\u001b[0m  \u001b[01;32mchr1.fa.fai\u001b[0m\n"
     ]
    }
   ],
   "source": [
    "ls"
   ]
  },
  {
   "cell_type": "code",
   "execution_count": 15,
   "id": "2df041a9",
   "metadata": {},
   "outputs": [],
   "source": [
    "cd ../"
   ]
  },
  {
   "cell_type": "markdown",
   "id": "9c390575",
   "metadata": {},
   "source": [
    "Next, we downloaded the BAM file data from the Illumina Comprehensive Cancer Panel. To reduce computational time and resource usage, we filtered the variants to include only those located on chromosome 1. We then sorted the BAM file to improve performance during downstream analysis. Finally, we indexed the sorted BAM file to enable efficient access to alignment data."
   ]
  },
  {
   "cell_type": "code",
   "execution_count": 19,
   "id": "d4ca518c",
   "metadata": {},
   "outputs": [],
   "source": [
    "mkdir Data\n",
    "cd Data"
   ]
  },
  {
   "cell_type": "code",
   "execution_count": null,
   "id": "d6c88f51",
   "metadata": {},
   "outputs": [],
   "source": [
    "wget https://ftp-trace.ncbi.nlm.nih.gov/ReferenceSamples/seqc/Somatic_Mutation_WG/data/AmpliSeq_bams/AmpliSeq.bwa.HCC1395BL_1.bam\n",
    "wget https://ftp-trace.ncbi.nlm.nih.gov/ReferenceSamples/seqc/Somatic_Mutation_WG/data/AmpliSeq_bams/AmpliSeq.bwa.HCC1395BL_1.bam.bai\n",
    "wget https://ftp-trace.ncbi.nlm.nih.gov/ReferenceSamples/seqc/Somatic_Mutation_WG/data/AmpliSeq_bams/AmpliSeq.bwa.HCC1395_1.bam\n",
    "wget https://ftp-trace.ncbi.nlm.nih.gov/ReferenceSamples/seqc/Somatic_Mutation_WG/data/AmpliSeq_bams/AmpliSeq.bwa.HCC1395_1.bam.bai"
   ]
  },
  {
   "cell_type": "code",
   "execution_count": 24,
   "id": "5e936dce",
   "metadata": {},
   "outputs": [
    {
     "name": "stdout",
     "output_type": "stream",
     "text": [
      "\u001b[0m\u001b[01;32mAmpliSeq.bwa.HCC1395BL_1.bam\u001b[0m      \u001b[01;32mAmpliSeq.bwa.HCC1395_1.bam\u001b[0m\n",
      "\u001b[01;32mAmpliSeq.bwa.HCC1395BL_1.bam.bai\u001b[0m  \u001b[01;32mAmpliSeq.bwa.HCC1395_1.bam.bai\u001b[0m\n"
     ]
    }
   ],
   "source": [
    "ls"
   ]
  },
  {
   "cell_type": "code",
   "execution_count": 30,
   "id": "3c069ed6",
   "metadata": {},
   "outputs": [],
   "source": [
    "samtools view -b AmpliSeq.bwa.HCC1395_1.bam chr1 -o AmpliSeq.bwa.HCC1395_1_chr1.bam\n",
    "samtools view -b AmpliSeq.bwa.HCC1395BL_1.bam chr1 -o AmpliSeq.bwa.HCC1395BL_1_chr1.bam"
   ]
  },
  {
   "cell_type": "code",
   "execution_count": 31,
   "id": "dfedb710",
   "metadata": {},
   "outputs": [
    {
     "name": "stdout",
     "output_type": "stream",
     "text": [
      "\u001b[0m\u001b[01;32mAmpliSeq.bwa.HCC1395BL_1.bam\u001b[0m       \u001b[01;32mAmpliSeq.bwa.HCC1395_1.bam\u001b[0m\n",
      "\u001b[01;32mAmpliSeq.bwa.HCC1395BL_1.bam.bai\u001b[0m   \u001b[01;32mAmpliSeq.bwa.HCC1395_1.bam.bai\u001b[0m\n",
      "\u001b[01;32mAmpliSeq.bwa.HCC1395BL_1_chr1.bam\u001b[0m  \u001b[01;32mAmpliSeq.bwa.HCC1395_1_chr1.bam\u001b[0m\n"
     ]
    }
   ],
   "source": [
    "ls"
   ]
  },
  {
   "cell_type": "code",
   "execution_count": 32,
   "id": "8956146b",
   "metadata": {},
   "outputs": [],
   "source": [
    "samtools sort AmpliSeq.bwa.HCC1395_1_chr1.bam -o AmpliSeq.bwa.HCC1395_1_chr1_sorted.bam\n",
    "samtools sort AmpliSeq.bwa.HCC1395BL_1_chr1.bam -o AmpliSeq.bwa.HCC1395BL_1_chr1_sorted.bam"
   ]
  },
  {
   "cell_type": "code",
   "execution_count": 33,
   "id": "2471ac87",
   "metadata": {},
   "outputs": [
    {
     "name": "stdout",
     "output_type": "stream",
     "text": [
      "\u001b[0m\u001b[01;32mAmpliSeq.bwa.HCC1395BL_1.bam\u001b[0m\n",
      "\u001b[01;32mAmpliSeq.bwa.HCC1395BL_1.bam.bai\u001b[0m\n",
      "\u001b[01;32mAmpliSeq.bwa.HCC1395BL_1_chr1.bam\u001b[0m\n",
      "\u001b[01;32mAmpliSeq.bwa.HCC1395BL_1_chr1_sorted.bam\u001b[0m\n",
      "\u001b[01;32mAmpliSeq.bwa.HCC1395_1.bam\u001b[0m\n",
      "\u001b[01;32mAmpliSeq.bwa.HCC1395_1.bam.bai\u001b[0m\n",
      "\u001b[01;32mAmpliSeq.bwa.HCC1395_1_chr1.bam\u001b[0m\n",
      "\u001b[01;32mAmpliSeq.bwa.HCC1395_1_chr1_sorted.bam\u001b[0m\n"
     ]
    }
   ],
   "source": [
    "ls"
   ]
  },
  {
   "cell_type": "code",
   "execution_count": 34,
   "id": "f65e46f6",
   "metadata": {},
   "outputs": [],
   "source": [
    "samtools index AmpliSeq.bwa.HCC1395_1_chr1_sorted.bam\n",
    "samtools index AmpliSeq.bwa.HCC1395BL_1_chr1_sorted.bam"
   ]
  },
  {
   "cell_type": "code",
   "execution_count": 35,
   "id": "2f4bf5c2",
   "metadata": {},
   "outputs": [
    {
     "name": "stdout",
     "output_type": "stream",
     "text": [
      "\u001b[0m\u001b[01;32mAmpliSeq.bwa.HCC1395BL_1.bam\u001b[0m\n",
      "\u001b[01;32mAmpliSeq.bwa.HCC1395BL_1.bam.bai\u001b[0m\n",
      "\u001b[01;32mAmpliSeq.bwa.HCC1395BL_1_chr1.bam\u001b[0m\n",
      "\u001b[01;32mAmpliSeq.bwa.HCC1395BL_1_chr1_sorted.bam\u001b[0m\n",
      "\u001b[01;32mAmpliSeq.bwa.HCC1395BL_1_chr1_sorted.bam.bai\u001b[0m\n",
      "\u001b[01;32mAmpliSeq.bwa.HCC1395_1.bam\u001b[0m\n",
      "\u001b[01;32mAmpliSeq.bwa.HCC1395_1.bam.bai\u001b[0m\n",
      "\u001b[01;32mAmpliSeq.bwa.HCC1395_1_chr1.bam\u001b[0m\n",
      "\u001b[01;32mAmpliSeq.bwa.HCC1395_1_chr1_sorted.bam\u001b[0m\n",
      "\u001b[01;32mAmpliSeq.bwa.HCC1395_1_chr1_sorted.bam.bai\u001b[0m\n"
     ]
    }
   ],
   "source": [
    "ls"
   ]
  },
  {
   "cell_type": "code",
   "execution_count": 38,
   "id": "4bf09d15",
   "metadata": {},
   "outputs": [],
   "source": [
    "cd ../"
   ]
  },
  {
   "cell_type": "markdown",
   "id": "1db5cc42",
   "metadata": {},
   "source": [
    "With the data prepared, we proceeded to run the VarNet inference notebook on Google Colab. To enable the analysis, we uploaded the necessary input files to our Google Drive:\n",
    "\n",
    "1. AmpliSeq.bwa.HCC1395BL_1_chr1_sorted.bam — the normal sample\n",
    "\n",
    "2. AmpliSeq.bwa.HCC1395_1_chr1_sorted.bam — the tumor sample\n",
    "\n",
    "3. chr1.fa and chr1.fa.fai — the reference genome (chromosome 1 only)"
   ]
  },
  {
   "cell_type": "code",
   "execution_count": 40,
   "id": "4888448b",
   "metadata": {},
   "outputs": [],
   "source": [
    "cd varnet_outputs"
   ]
  },
  {
   "cell_type": "code",
   "execution_count": 41,
   "id": "789e2903",
   "metadata": {},
   "outputs": [
    {
     "name": "stdout",
     "output_type": "stream",
     "text": [
      "\u001b[0m\u001b[34;42mHCC1395\u001b[0m\n"
     ]
    }
   ],
   "source": [
    "ls"
   ]
  },
  {
   "cell_type": "code",
   "execution_count": 42,
   "id": "e44c55a9",
   "metadata": {},
   "outputs": [],
   "source": [
    "cd HCC1395"
   ]
  },
  {
   "cell_type": "code",
   "execution_count": 45,
   "id": "241bb12d",
   "metadata": {},
   "outputs": [
    {
     "name": "stdout",
     "output_type": "stream",
     "text": [
      "\u001b[0m\u001b[01;32mHCC1395.vcf\u001b[0m  \u001b[34;42mcandidates\u001b[0m  \u001b[34;42mpredictions\u001b[0m\n"
     ]
    }
   ],
   "source": [
    "ls"
   ]
  },
  {
   "cell_type": "code",
   "execution_count": 46,
   "id": "e0e1c094",
   "metadata": {},
   "outputs": [
    {
     "name": "stdout",
     "output_type": "stream",
     "text": [
      "##fileformat=VCFv4.2\n",
      "##fileDate=2025June28, 19:56:28\n",
      "##source=VarNet v1.1.0\n",
      "##reference=/content/VarNet/data/chr1.fa\n",
      "##normalBAM=/content/VarNet/data/AmpliSeq.bwa.HCC1395BL_1_chr1_sorted.bam\n",
      "##tumorBAM=/content/VarNet/data/AmpliSeq.bwa.HCC1395_1_chr1_sorted.bam\n",
      "##INFO=<ID=TYPE,Number=.,Type=String,Description=\"Type of Somatic Event INDEL or SNV\">\n",
      "##INFO=<ID=SCORE,Number=1,Type=Float,Description=\"Prediction probability score\">\n",
      "##FILTER=<ID=PASS,Description=\"Accept as somatic mutation with probability score at least 0.5\">\n",
      "##FILTER=<ID=REJECT,Description=\"Reject somatic mutation with probability score value below 0.5\">\n",
      "##FORMAT=<ID=GT,Number=1,Type=String,Description=\"Genotype\">\n",
      "##FORMAT=<ID=DP,Number=1,Type=Integer,Description=\"Read Depth in the tumor\">\n",
      "##FORMAT=<ID=RO,Number=1,Type=Integer,Description=\"Reference allele observation count in the tumor\">\n",
      "##FORMAT=<ID=AO,Number=A,Type=Integer,Description=\"Alternate allele observation count in the tumor\">\n",
      "##FORMAT=<ID=AF,Number=1,Type=Float,Description=\"Allele fractions of alternate alleles in the tumor\">\n",
      "#CHROM\tPOS\tID\tREF\tALT\tQUAL\tFILTER\tINFO\tFORMAT\tSAMPLE\n",
      "chr1\t169764520\t.\tG\tT\t.\tPASS\tTYPE=SNV;SCORE=0.9998;DP=845;RO=255;AO=589;AF=0.697;\tGT:DP:RO:AO:AF\t0/1:845:255:589:0.697\t\n",
      "chr1\t149034140\t.\tG\tT\t.\tPASS\tTYPE=SNV;SCORE=0.9493;DP=1608;RO=1094;AO=512;AF=0.3184;\tGT:DP:RO:AO:AF\t0/1:1608:1094:512:0.3184\t\n",
      "chr1\t11387326\t.\tT\tA\t.\tPASS\tTYPE=SNV;SCORE=0.9798;DP=870;RO=706;AO=164;AF=0.1885;\tGT:DP:RO:AO:AF\t0/1:870:706:164:0.1885\t\n",
      "chr1\t236923385\t.\tA\tG\t.\tPASS\tTYPE=SNV;SCORE=0.6584;DP=718;RO=599;AO=119;AF=0.1657;\tGT:DP:RO:AO:AF\t0/1:718:599:119:0.1657\t\n",
      "chr1\t172452442\t.\tC\tG\t.\tPASS\tTYPE=SNV;SCORE=0.9998;DP=704;RO=481;AO=223;AF=0.3168;\tGT:DP:RO:AO:AF\t0/1:704:481:223:0.3168\t\n",
      "chr1\t83230081\t.\tC\tG\t.\tPASS\tTYPE=SNV;SCORE=0.9293;DP=464;RO=271;AO=192;AF=0.4138;\tGT:DP:RO:AO:AF\t0/1:464:271:192:0.4138\t\n",
      "chr1\t87329086\t.\tC\tT\t.\tREJECT\tTYPE=SNV;SCORE=0.3242;DP=593;RO=252;AO=340;AF=0.5734;\tGT:DP:RO:AO:AF\t0/1:593:252:340:0.5734\t\n",
      "chr1\t242432018\t.\tC\tT\t.\tPASS\tTYPE=SNV;SCORE=0.9999;DP=1646;RO=721;AO=925;AF=0.562;\tGT:DP:RO:AO:AF\t0/1:1646:721:925:0.562\t\n",
      "chr1\t143775490\t.\tA\tG\t.\tPASS\tTYPE=SNV;SCORE=0.7586;DP=1393;RO=910;AO=482;AF=0.346;\tGT:DP:RO:AO:AF\t0/1:1393:910:482:0.346\t\n",
      "chr1\t229871997\t.\tG\tA\t.\tPASS\tTYPE=SNV;SCORE=0.9999;DP=620;RO=508;AO=111;AF=0.179;\tGT:DP:RO:AO:AF\t0/1:620:508:111:0.179\t\n",
      "chr1\t19209141\t.\tC\tT\t.\tPASS\tTYPE=SNV;SCORE=0.9998;DP=809;RO=1;AO=808;AF=0.9988;\tGT:DP:RO:AO:AF\t0/1:809:1:808:0.9988\t\n",
      "chr1\t236752160\t.\tG\tT\t.\tPASS\tTYPE=SNV;SCORE=0.867;DP=585;RO=541;AO=44;AF=0.0752;\tGT:DP:RO:AO:AF\t0/1:585:541:44:0.0752\t\n",
      "chr1\t149808218\t.\tA\tT\t.\tPASS\tTYPE=SNV;SCORE=0.9263;DP=981;RO=573;AO=408;AF=0.4159;\tGT:DP:RO:AO:AF\t0/1:981:573:408:0.4159\t\n",
      "chr1\t68773236\t.\tC\tG\t.\tPASS\tTYPE=SNV;SCORE=0.9993;DP=719;RO=452;AO=267;AF=0.3713;\tGT:DP:RO:AO:AF\t0/1:719:452:267:0.3713\t\n",
      "chr1\t75106326\t.\tC\tA\t.\tPASS\tTYPE=SNV;SCORE=0.9981;DP=445;RO=0;AO=445;AF=1.0;\tGT:DP:RO:AO:AF\t0/1:445:0:445:1.0\t\n",
      "chr1\t169375018\t.\tT\tG\t.\tPASS\tTYPE=SNV;SCORE=0.6743;DP=1532;RO=941;AO=591;AF=0.3858;\tGT:DP:RO:AO:AF\t0/1:1532:941:591:0.3858\t\n",
      "chr1\t102718461\t.\tG\tC\t.\tPASS\tTYPE=SNV;SCORE=0.5455;DP=8;RO=5;AO=3;AF=0.375;\tGT:DP:RO:AO:AF\t0/1:8:5:3:0.375\t\n",
      "chr1\t158128325\t.\tG\tC\t.\tPASS\tTYPE=SNV;SCORE=0.9982;DP=596;RO=197;AO=399;AF=0.6695;\tGT:DP:RO:AO:AF\t0/1:596:197:399:0.6695\t\n",
      "chr1\t2101556\t.\tC\tG\t.\tPASS\tTYPE=SNV;SCORE=0.9897;DP=245;RO=204;AO=41;AF=0.1673;\tGT:DP:RO:AO:AF\t0/1:245:204:41:0.1673\t\n",
      "chr1\t2298602\t.\tA\tC\t.\tREJECT\tTYPE=SNV;SCORE=0.3879;DP=748;RO=677;AO=71;AF=0.0949;\tGT:DP:RO:AO:AF\t0/1:748:677:71:0.0949\t\n",
      "chr1\t91578606\t.\tG\tT\t.\tPASS\tTYPE=SNV;SCORE=0.9996;DP=830;RO=214;AO=613;AF=0.7386;\tGT:DP:RO:AO:AF\t0/1:830:214:613:0.7386\t\n",
      "chr1\t96802788\t.\tG\tC\t.\tPASS\tTYPE=SNV;SCORE=0.9962;DP=243;RO=208;AO=35;AF=0.144;\tGT:DP:RO:AO:AF\t0/1:243:208:35:0.144\t\n",
      "chr1\t203517608\t.\tC\tA\t.\tPASS\tTYPE=SNV;SCORE=0.8722;DP=2808;RO=2565;AO=243;AF=0.0865;\tGT:DP:RO:AO:AF\t0/1:2808:2565:243:0.0865\t\n",
      "chr1\t143621384\t.\tA\tG\t.\tPASS\tTYPE=SNV;SCORE=0.9951;DP=696;RO=220;AO=476;AF=0.6839;\tGT:DP:RO:AO:AF\t0/1:696:220:476:0.6839\t\n",
      "chr1\t227880191\t.\tGAA\tG\t.\tPASS\tTYPE=INDEL;SCORE=0.9704;DP=968;RO=559;AO=408;AF=0.4215;\tGT:DP:RO:AO:AF\t0/1:968:559:408:0.4215\t\n",
      "chr1\t158128509\t.\tCT\tC\t.\tPASS\tTYPE=INDEL;SCORE=0.8445;DP=689;RO=624;AO=63;AF=0.0914;\tGT:DP:RO:AO:AF\t0/1:689:624:63:0.0914\t\n",
      "chr1\t235532297\t.\tCAT\tC\t.\tPASS\tTYPE=INDEL;SCORE=0.7107;DP=1030;RO=908;AO=114;AF=0.1107;\tGT:DP:RO:AO:AF\t0/1:1030:908:114:0.1107\t\n",
      "chr1\t19209119\t.\tGTAACAAATAGCAATTTT\tG\t.\tREJECT\tTYPE=INDEL;SCORE=0.3404;DP=810;RO=4;AO=805;AF=0.9938;\tGT:DP:RO:AO:AF\t0/1:810:4:805:0.9938\t\n"
     ]
    }
   ],
   "source": [
    "cat HCC1395.vcf"
   ]
  },
  {
   "cell_type": "markdown",
   "id": "18ddb45e",
   "metadata": {},
   "source": [
    "The output of the VarNet model is the HCC1395.vcf file, which contains the somatic variants detected between the tumor and normal samples. In total, 28 variants were identified, of which 3 were rejected by the model's prediction. We filtered out the rejected variants, leaving 25 high-confidence somatic variants.\n",
    "\n",
    "These filtered variants can then be cross-referenced with public databases (e.g., COSMIC, dbSNP, ClinVar) to determine whether they have been previously reported. Further biological analysis can also be conducted to assess their potential functional impact and relevance to cancer."
   ]
  },
  {
   "cell_type": "code",
   "execution_count": 48,
   "id": "26ea9ee5",
   "metadata": {},
   "outputs": [
    {
     "name": "stdout",
     "output_type": "stream",
     "text": [
      "28\n"
     ]
    }
   ],
   "source": [
    "grep -v '^#' HCC1395.vcf | wc -l"
   ]
  },
  {
   "cell_type": "code",
   "execution_count": 49,
   "id": "63c8b1d4",
   "metadata": {},
   "outputs": [
    {
     "name": "stdout",
     "output_type": "stream",
     "text": [
      "25\n"
     ]
    }
   ],
   "source": [
    "grep -v '^#' HCC1395.vcf | awk '$7 == \"PASS\"' | wc -l"
   ]
  },
  {
   "cell_type": "markdown",
   "id": "175108f9",
   "metadata": {},
   "source": [
    "For each of the 25 filtered variants, we queried the dbSNP database to determine whether they had been previously reported. The search was performed using three key fields:\n",
    "\n",
    "Organism: Homo sapiens\n",
    "Chromosome Number: Chromosome 1\n",
    "Base Position: The genomic position of the variant\n",
    "\n",
    "If a match was found in dbSNP, we recorded the corresponding rsID (Reference SNP ID). This step allowed us to annotate known variants and distinguish them from potentially novel mutations, which can be critical for downstream biological interpretation and clinical relevance."
   ]
  },
  {
   "cell_type": "code",
   "execution_count": 50,
   "id": "91bbe2fd",
   "metadata": {},
   "outputs": [
    {
     "name": "stdout",
     "output_type": "stream",
     "text": [
      "\u001b[0m\u001b[01;32mHCC1395.vcf\u001b[0m  \u001b[34;42mcandidates\u001b[0m  \u001b[34;42mpredictions\u001b[0m\n"
     ]
    }
   ],
   "source": [
    "ls"
   ]
  },
  {
   "cell_type": "markdown",
   "id": "013c431b",
   "metadata": {},
   "source": [
    "After querying the 25 high-confidence variants in the dbSNP database using the specified fields (organism, chromosome number, and base position), we found that 4 variants had been previously reported. For these known variants, we retrieved and recorded their corresponding rsIDs.\n",
    "\n",
    "To facilitate further analysis, we created a separate VCF file containing only these 4 annotated variants along with their rsIDs."
   ]
  },
  {
   "cell_type": "code",
   "execution_count": 51,
   "id": "bf65d884",
   "metadata": {},
   "outputs": [
    {
     "name": "stdout",
     "output_type": "stream",
     "text": [
      "\u001b[0m\u001b[01;32mHCC1395.vcf\u001b[0m  \u001b[34;42mcandidates\u001b[0m  \u001b[34;42mpredictions\u001b[0m  \u001b[01;32mselected.vcf\u001b[0m\n"
     ]
    }
   ],
   "source": [
    "ls"
   ]
  },
  {
   "cell_type": "code",
   "execution_count": 52,
   "id": "eb9dab22",
   "metadata": {},
   "outputs": [
    {
     "name": "stdout",
     "output_type": "stream",
     "text": [
      "chr1    236923385\trs1667318397       A       G       .       PASS    TYPE=SNV;SCORE=0.6584;DP=718;RO=599;AO=119;AF=0.1657;   GT:DP:RO:AO:AF  0/1:718:599:119:0.1657\n",
      "chr1    143775490\trs1165169713       A       G       .       PASS    TYPE=SNV;SCORE=0.7586;DP=1393;RO=910;AO=482;AF=0.346;   GT:DP:RO:AO:AF  0/1:1393:910:482:0.346\n",
      "chr1\t19209141\t rs534493951       C       T       .       PASS    TYPE=SNV;SCORE=0.9998;DP=809;RO=1;AO=808;AF=0.9988;     GT:DP:RO:AO:AF  0/1:809:1:808:0.9988\n",
      "chr1    68773236\trs1646637309       C       G       .       PASS    TYPE=SNV;SCORE=0.9993;DP=719;RO=452;AO=267;AF=0.3713;   GT:DP:RO:AO:AF  0/1:719:452:267:0.3713\n"
     ]
    }
   ],
   "source": [
    "cat selected.vcf"
   ]
  },
  {
   "cell_type": "markdown",
   "id": "dc6a8927",
   "metadata": {},
   "source": [
    "![Four Variants IGV](fourVariantsIGV.png)"
   ]
  },
  {
   "cell_type": "markdown",
   "id": "3bf40b0f",
   "metadata": {},
   "source": [
    "Although none of the 25 detected variants were found to have documented clinical significance in databases such as ClinVar, we selected one variant for further annotation and biological analysis.\n",
    "\n",
    "rs534493951:"
   ]
  },
  {
   "cell_type": "markdown",
   "id": "3bf9b83e",
   "metadata": {},
   "source": [
    "![rs534493951](rs534493951.png)"
   ]
  },
  {
   "cell_type": "markdown",
   "id": "2bd25ee1",
   "metadata": {},
   "source": [
    "The variant rs534493951 is located within an intronic region of the UBR4 gene and lies approximately 2 kilobases upstream of the EMC1-AS1 gene. While there is currently no confirmed clinical association with breast cancer reported in databases such as ClinVar, the genomic context suggests potential regulatory relevance. UBR4 encodes a ubiquitin ligase involved in protein quality control, and dysregulation of the ubiquitin-proteasome system has been implicated in several cancers, including breast cancer. EMC1-AS1, a long non-coding RNA, may also play a role in gene expression regulation in nearby regions. Although the functional impact of rs534493951 remains uncertain, its position within regulatory and non-coding regions warrants further investigation, particularly in the context of transcriptional control and epigenetic modulation in breast cancer biology."
   ]
  },
  {
   "cell_type": "markdown",
   "id": "8577dbb8",
   "metadata": {},
   "source": [
    "![rs534493951IGV](rs534493951IGV.png)"
   ]
  },
  {
   "cell_type": "markdown",
   "id": "faee91cd",
   "metadata": {},
   "source": [
    "# VarNet CNN Architecture Summary\n",
    "\n",
    "VarNet uses deep convolutional neural networks to call somatic mutations directly from raw sequencing data. Two models were built: one for SNVs and one for indels.\n",
    "\n",
    "## Input Encoding\n",
    "Sequencing reads from tumor and matched normal samples are converted into 5-channel image-like tensors encoding:\n",
    "- Base identity  \n",
    "- Base quality  \n",
    "- Mapping quality  \n",
    "- Strand bias  \n",
    "- Reference base\n",
    "\n",
    "**Shapes:**\n",
    "- **SNVs**: `(100, 70, 5)` over a 30-bp window; candidate site repeated 5×  \n",
    "- **Indels**: `(140, 150, 5)` over a 70-bp window; variable-length indels encoded in-place\n",
    "\n",
    "## SNV Model\n",
    "- Custom CNN with 10 convolutional blocks:\n",
    "  - Conv → ReLU → BatchNorm  \n",
    "- Two average-pooling layers  \n",
    "- Three dense layers: 256 → 128 → 64 units  \n",
    "- Final sigmoid output layer  \n",
    "- ~3.5 million trainable parameters\n",
    "\n",
    "## Indel Model\n",
    "- Based on **InceptionV3** to capture complex patterns  \n",
    "- Supports longer context due to indel variability\n",
    "\n",
    "## Training Configuration\n",
    "- **Optimizer**: Adam (`lr=1e−4`)  \n",
    "- **Batch size**: 32  \n",
    "- **Framework**: TensorFlow  \n",
    "- **Hardware**: Nvidia Titan-X GPU\n",
    "\n",
    "---\n",
    "\n",
    "VarNet learns mutation-relevant features directly from alignments, eliminating the need for hand-crafted filters and enabling broad generalization across cancer types and sequencing platforms.\n"
   ]
  },
  {
   "cell_type": "code",
   "execution_count": null,
   "id": "dce2afff",
   "metadata": {},
   "outputs": [],
   "source": []
  }
 ],
 "metadata": {
  "kernelspec": {
   "display_name": "Bash",
   "language": "bash",
   "name": "bash"
  },
  "language_info": {
   "codemirror_mode": "shell",
   "file_extension": ".sh",
   "mimetype": "text/x-sh",
   "name": "bash"
  }
 },
 "nbformat": 4,
 "nbformat_minor": 5
}
